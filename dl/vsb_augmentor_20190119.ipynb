{
 "cells": [
  {
   "cell_type": "markdown",
   "metadata": {},
   "source": [
    "### Augmentor"
   ]
  },
  {
   "cell_type": "code",
   "execution_count": 1,
   "metadata": {},
   "outputs": [],
   "source": [
    "#import Augmentor\n",
    "import pandas as pd\n",
    "from pathlib import Path\n",
    "import os\n",
    "from shutil import copyfile\n",
    "from imgaug import augmenters as iaa\n",
    "import numpy as np\n",
    "from PIL import Image as pil_image\n",
    "from os import listdir\n",
    "from os.path import isfile, join\n",
    "import shutil"
   ]
  },
  {
   "cell_type": "code",
   "execution_count": null,
   "metadata": {},
   "outputs": [],
   "source": []
  },
  {
   "cell_type": "code",
   "execution_count": 2,
   "metadata": {},
   "outputs": [],
   "source": [
    "pd.set_option('display.max_columns', None)"
   ]
  },
  {
   "cell_type": "code",
   "execution_count": 8,
   "metadata": {},
   "outputs": [],
   "source": [
    "PATH = Path('../input/')\n",
    "TRAIN_PATH =PATH/'train_300_ts_aug_viridis-60_10'\n",
    "TEST_PATH =PATH/'test_300_viridis-60_10'"
   ]
  },
  {
   "cell_type": "markdown",
   "metadata": {},
   "source": [
    "### load data"
   ]
  },
  {
   "cell_type": "markdown",
   "metadata": {},
   "source": [
    "### imgaug\n",
    "https://github.com/aleju/imgaug"
   ]
  },
  {
   "cell_type": "code",
   "execution_count": 9,
   "metadata": {},
   "outputs": [],
   "source": [
    "seq = iaa.Sequential([\n",
    "    iaa.Sometimes(0.1, iaa.AdditiveGaussianNoise(scale=(0.0, 0.01*255))),\n",
    "    iaa.Sometimes(0.05, iaa.Dropout(p=(0, 0.05))),\n",
    "    ], random_order=True)"
   ]
  },
  {
   "cell_type": "code",
   "execution_count": 10,
   "metadata": {},
   "outputs": [],
   "source": [
    "def apply_imgur():\n",
    "    img_shape = (300,300)\n",
    "    fpath = TRAIN_PATH\n",
    "        \n",
    "    imgfiles = [f for f in os.listdir(fpath) if os.path.isfile(os.path.join(fpath, f))]\n",
    "\n",
    "    X = np.zeros([len(imgfiles), img_shape[0], img_shape[1], 3], dtype=np.uint8)\n",
    "    for index,f in enumerate(imgfiles):\n",
    "        im = pil_image.open(fpath/f'{f}')\n",
    "        X[index,:] = np.array(im)[:,:,0:3]\n",
    "    images_aug = seq.augment_images(X)\n",
    "    dir_pth = str(TRAIN_PATH)+'_imgaug'\n",
    "    if not os.path.exists(dir_pth):\n",
    "        os.makedirs(dir_pth)\n",
    "    #TODO get name of image to save with\n",
    "    for b in images_aug:\n",
    "        im = pil_image.fromarray(b)\n",
    "        im.save(dir_pth/f'{signal_id}.png')\n",
    "        ij+=1\n",
    "            "
   ]
  },
  {
   "cell_type": "code",
   "execution_count": 11,
   "metadata": {},
   "outputs": [
    {
     "ename": "NameError",
     "evalue": "name 'signal_id' is not defined",
     "output_type": "error",
     "traceback": [
      "\u001b[0;31m---------------------------------------------------------------------------\u001b[0m",
      "\u001b[0;31mNameError\u001b[0m                                 Traceback (most recent call last)",
      "\u001b[0;32m<ipython-input-11-b0b758a15f40>\u001b[0m in \u001b[0;36m<module>\u001b[0;34m\u001b[0m\n\u001b[1;32m      1\u001b[0m \u001b[0;31m#really slow\u001b[0m\u001b[0;34m\u001b[0m\u001b[0;34m\u001b[0m\u001b[0;34m\u001b[0m\u001b[0m\n\u001b[0;32m----> 2\u001b[0;31m \u001b[0mapply_imgur\u001b[0m\u001b[0;34m(\u001b[0m\u001b[0;34m)\u001b[0m\u001b[0;34m\u001b[0m\u001b[0;34m\u001b[0m\u001b[0m\n\u001b[0m",
      "\u001b[0;32m<ipython-input-10-05f21e22fa51>\u001b[0m in \u001b[0;36mapply_imgur\u001b[0;34m()\u001b[0m\n\u001b[1;32m     16\u001b[0m     \u001b[0;32mfor\u001b[0m \u001b[0mb\u001b[0m \u001b[0;32min\u001b[0m \u001b[0mimages_aug\u001b[0m\u001b[0;34m:\u001b[0m\u001b[0;34m\u001b[0m\u001b[0;34m\u001b[0m\u001b[0m\n\u001b[1;32m     17\u001b[0m         \u001b[0mim\u001b[0m \u001b[0;34m=\u001b[0m \u001b[0mpil_image\u001b[0m\u001b[0;34m.\u001b[0m\u001b[0mfromarray\u001b[0m\u001b[0;34m(\u001b[0m\u001b[0mb\u001b[0m\u001b[0;34m)\u001b[0m\u001b[0;34m\u001b[0m\u001b[0;34m\u001b[0m\u001b[0m\n\u001b[0;32m---> 18\u001b[0;31m         \u001b[0mim\u001b[0m\u001b[0;34m.\u001b[0m\u001b[0msave\u001b[0m\u001b[0;34m(\u001b[0m\u001b[0mdir_pth\u001b[0m\u001b[0;34m/\u001b[0m\u001b[0;34mf'{signal_id}.png'\u001b[0m\u001b[0;34m)\u001b[0m\u001b[0;34m\u001b[0m\u001b[0;34m\u001b[0m\u001b[0m\n\u001b[0m\u001b[1;32m     19\u001b[0m         \u001b[0mij\u001b[0m\u001b[0;34m+=\u001b[0m\u001b[0;36m1\u001b[0m\u001b[0;34m\u001b[0m\u001b[0;34m\u001b[0m\u001b[0m\n\u001b[1;32m     20\u001b[0m \u001b[0;34m\u001b[0m\u001b[0m\n",
      "\u001b[0;31mNameError\u001b[0m: name 'signal_id' is not defined"
     ]
    }
   ],
   "source": [
    "#really slow\n",
    "apply_imgur()"
   ]
  },
  {
   "cell_type": "code",
   "execution_count": null,
   "metadata": {},
   "outputs": [],
   "source": []
  }
 ],
 "metadata": {
  "kernelspec": {
   "display_name": "Python 3",
   "language": "python",
   "name": "python3"
  },
  "language_info": {
   "codemirror_mode": {
    "name": "ipython",
    "version": 3
   },
   "file_extension": ".py",
   "mimetype": "text/x-python",
   "name": "python",
   "nbconvert_exporter": "python",
   "pygments_lexer": "ipython3",
   "version": "3.6.5"
  }
 },
 "nbformat": 4,
 "nbformat_minor": 2
}
