{
 "cells": [
  {
   "cell_type": "markdown",
   "metadata": {
    "_uuid": "c1b8b3283f6bf77de1ced2733040943ff7041ab7"
   },
   "source": [
    "## HF/LF/VLF analysis\n",
    "\n",
    "See vsb_analyze-power-line-signals_parallel.py for HF/LF signal division\n",
    "also vsb_signal_shift.py and vsb_spectrograms_ts_shift_parallel.py for time shift of the hf component for augmentation"
   ]
  },
  {
   "cell_type": "code",
   "execution_count": 1,
   "metadata": {
    "_cell_guid": "b1076dfc-b9ad-4769-8c92-a6c4dae69d19",
    "_uuid": "8f2839f25d086af736a60e9eeb907d3b93b6e0e5"
   },
   "outputs": [
    {
     "name": "stderr",
     "output_type": "stream",
     "text": [
      "/home/walle/miniconda3/envs/fastai-py3.7/lib/python3.7/site-packages/ipykernel_launcher.py:16: DeprecationWarning: Using or importing the ABCs from 'collections' instead of from 'collections.abc' is deprecated, and in 3.8 it will stop working\n",
      "  app.launch_new_instance()\n"
     ]
    }
   ],
   "source": [
    "import csv\n",
    "import numpy as np\n",
    "from scipy.interpolate import interp1d\n",
    "from scipy import fftpack, signal\n",
    "from scipy.signal import butter, filtfilt, hilbert\n",
    "from scipy.signal import sosfilt, sosfreqz\n",
    "from matplotlib import pyplot as plt\n",
    "import pandas as pd\n",
    "import seaborn as sns\n",
    "import pyarrow.parquet as pq\n",
    "import pickle\n",
    "import re, os\n",
    "import random\n",
    "from random import randint\n",
    "from concurrent.futures import ProcessPoolExecutor\n",
    "from collections import Collection\n",
    "from pathlib import Path\n",
    "from os import listdir\n",
    "from os.path import isfile, join\n",
    "import psutil\n",
    "import time"
   ]
  },
  {
   "cell_type": "code",
   "execution_count": 2,
   "metadata": {},
   "outputs": [],
   "source": [
    "pid = os.getpid()\n",
    "py = psutil.Process(pid)"
   ]
  },
  {
   "cell_type": "code",
   "execution_count": 3,
   "metadata": {},
   "outputs": [],
   "source": [
    "#import datashader as ds\n",
    "#from datashader import transfer_functions as tf"
   ]
  },
  {
   "cell_type": "code",
   "execution_count": 4,
   "metadata": {
    "_uuid": "16a4bdba3ce8895218df5fb5d2d97ddb1c2774ab"
   },
   "outputs": [
    {
     "name": "stdout",
     "output_type": "stream",
     "text": [
      "Sampling Frequency = 40.0 MHz\n"
     ]
    }
   ],
   "source": [
    "period = 0.02\n",
    "time_step = 0.02 / 800000.\n",
    "time_vec = np.arange(0, 0.02, time_step)\n",
    "f_sampling = 1 / time_step\n",
    "print(f'Sampling Frequency = {f_sampling / 1e6} MHz')\n",
    "# print (str(50* 800000 /1e6) + ' MHz')\n",
    "samples = 800000\n",
    "period = 0.02\n",
    "sr = period / samples"
   ]
  },
  {
   "cell_type": "markdown",
   "metadata": {},
   "source": [
    "### Good signal ts augmentation\n",
    "\n",
    "too memory intensive to do so broke eack ts shift into 10 parts, here we recombine each"
   ]
  },
  {
   "cell_type": "code",
   "execution_count": 3,
   "metadata": {},
   "outputs": [],
   "source": [
    "df_25_0=pq.read_table(f'../data/ML_Data/kaggle/VSB_Power_Line_Fault_Detection/bp_signals/shift_neg_sig_df_25_0.parquet').to_pandas()"
   ]
  },
  {
   "cell_type": "code",
   "execution_count": 4,
   "metadata": {},
   "outputs": [
    {
     "data": {
      "text/html": [
       "<div>\n",
       "<style scoped>\n",
       "    .dataframe tbody tr th:only-of-type {\n",
       "        vertical-align: middle;\n",
       "    }\n",
       "\n",
       "    .dataframe tbody tr th {\n",
       "        vertical-align: top;\n",
       "    }\n",
       "\n",
       "    .dataframe thead th {\n",
       "        text-align: right;\n",
       "    }\n",
       "</style>\n",
       "<table border=\"1\" class=\"dataframe\">\n",
       "  <thead>\n",
       "    <tr style=\"text-align: right;\">\n",
       "      <th></th>\n",
       "      <th>0</th>\n",
       "      <th>1</th>\n",
       "      <th>2</th>\n",
       "      <th>6</th>\n",
       "      <th>7</th>\n",
       "      <th>8</th>\n",
       "      <th>9</th>\n",
       "      <th>10</th>\n",
       "      <th>11</th>\n",
       "      <th>12</th>\n",
       "      <th>...</th>\n",
       "      <th>863</th>\n",
       "      <th>864</th>\n",
       "      <th>865</th>\n",
       "      <th>866</th>\n",
       "      <th>867</th>\n",
       "      <th>868</th>\n",
       "      <th>869</th>\n",
       "      <th>870</th>\n",
       "      <th>871</th>\n",
       "      <th>872</th>\n",
       "    </tr>\n",
       "  </thead>\n",
       "  <tbody>\n",
       "    <tr>\n",
       "      <th>799995</th>\n",
       "      <td>-0.710341</td>\n",
       "      <td>1.038502</td>\n",
       "      <td>1.333920</td>\n",
       "      <td>1.641136</td>\n",
       "      <td>-0.211220</td>\n",
       "      <td>2.863419</td>\n",
       "      <td>-3.937174</td>\n",
       "      <td>-1.816853</td>\n",
       "      <td>-2.652810</td>\n",
       "      <td>-1.838458</td>\n",
       "      <td>...</td>\n",
       "      <td>-2.819275</td>\n",
       "      <td>-0.940728</td>\n",
       "      <td>-0.537838</td>\n",
       "      <td>0.753145</td>\n",
       "      <td>-5.672725</td>\n",
       "      <td>0.189435</td>\n",
       "      <td>-1.830618</td>\n",
       "      <td>0.654972</td>\n",
       "      <td>2.996547</td>\n",
       "      <td>2.870415</td>\n",
       "    </tr>\n",
       "    <tr>\n",
       "      <th>799996</th>\n",
       "      <td>-1.651654</td>\n",
       "      <td>-1.024932</td>\n",
       "      <td>-0.666129</td>\n",
       "      <td>-1.216273</td>\n",
       "      <td>-1.239267</td>\n",
       "      <td>1.956597</td>\n",
       "      <td>-2.892940</td>\n",
       "      <td>-0.912583</td>\n",
       "      <td>-1.411440</td>\n",
       "      <td>-1.936189</td>\n",
       "      <td>...</td>\n",
       "      <td>-2.702820</td>\n",
       "      <td>-0.940623</td>\n",
       "      <td>0.462208</td>\n",
       "      <td>0.854969</td>\n",
       "      <td>1.747772</td>\n",
       "      <td>2.080013</td>\n",
       "      <td>0.188900</td>\n",
       "      <td>-1.225242</td>\n",
       "      <td>-1.003389</td>\n",
       "      <td>-1.192668</td>\n",
       "    </tr>\n",
       "    <tr>\n",
       "      <th>799997</th>\n",
       "      <td>-1.651618</td>\n",
       "      <td>0.053726</td>\n",
       "      <td>-0.666177</td>\n",
       "      <td>-0.216391</td>\n",
       "      <td>-2.382757</td>\n",
       "      <td>0.897969</td>\n",
       "      <td>-1.259067</td>\n",
       "      <td>-0.967450</td>\n",
       "      <td>-1.411235</td>\n",
       "      <td>-1.955686</td>\n",
       "      <td>...</td>\n",
       "      <td>-3.196652</td>\n",
       "      <td>-0.996949</td>\n",
       "      <td>-0.537746</td>\n",
       "      <td>-0.207145</td>\n",
       "      <td>1.764630</td>\n",
       "      <td>2.386599</td>\n",
       "      <td>1.205376</td>\n",
       "      <td>-0.331908</td>\n",
       "      <td>-1.003325</td>\n",
       "      <td>-1.123119</td>\n",
       "    </tr>\n",
       "    <tr>\n",
       "      <th>799998</th>\n",
       "      <td>0.334480</td>\n",
       "      <td>1.027904</td>\n",
       "      <td>1.427139</td>\n",
       "      <td>1.729987</td>\n",
       "      <td>0.773245</td>\n",
       "      <td>3.863438</td>\n",
       "      <td>-2.016030</td>\n",
       "      <td>-0.830643</td>\n",
       "      <td>-1.425139</td>\n",
       "      <td>-0.869619</td>\n",
       "      <td>...</td>\n",
       "      <td>-2.905836</td>\n",
       "      <td>-0.874584</td>\n",
       "      <td>-0.537699</td>\n",
       "      <td>0.784072</td>\n",
       "      <td>-6.646045</td>\n",
       "      <td>0.206657</td>\n",
       "      <td>-1.830465</td>\n",
       "      <td>-0.348632</td>\n",
       "      <td>1.086445</td>\n",
       "      <td>2.842220</td>\n",
       "    </tr>\n",
       "    <tr>\n",
       "      <th>799999</th>\n",
       "      <td>-0.651548</td>\n",
       "      <td>0.059695</td>\n",
       "      <td>0.347076</td>\n",
       "      <td>-1.994963</td>\n",
       "      <td>-2.226634</td>\n",
       "      <td>-0.126996</td>\n",
       "      <td>-3.144819</td>\n",
       "      <td>0.090584</td>\n",
       "      <td>-0.443689</td>\n",
       "      <td>-2.053343</td>\n",
       "      <td>...</td>\n",
       "      <td>-3.196187</td>\n",
       "      <td>-1.940309</td>\n",
       "      <td>-0.569912</td>\n",
       "      <td>-0.216079</td>\n",
       "      <td>-2.303453</td>\n",
       "      <td>0.189647</td>\n",
       "      <td>-1.866304</td>\n",
       "      <td>-0.332154</td>\n",
       "      <td>-1.003197</td>\n",
       "      <td>-0.168745</td>\n",
       "    </tr>\n",
       "  </tbody>\n",
       "</table>\n",
       "<p>5 rows × 825 columns</p>\n",
       "</div>"
      ],
      "text/plain": [
       "               0         1         2         6         7         8         9  \\\n",
       "799995 -0.710341  1.038502  1.333920  1.641136 -0.211220  2.863419 -3.937174   \n",
       "799996 -1.651654 -1.024932 -0.666129 -1.216273 -1.239267  1.956597 -2.892940   \n",
       "799997 -1.651618  0.053726 -0.666177 -0.216391 -2.382757  0.897969 -1.259067   \n",
       "799998  0.334480  1.027904  1.427139  1.729987  0.773245  3.863438 -2.016030   \n",
       "799999 -0.651548  0.059695  0.347076 -1.994963 -2.226634 -0.126996 -3.144819   \n",
       "\n",
       "              10        11        12    ...          863       864       865  \\\n",
       "799995 -1.816853 -2.652810 -1.838458    ...    -2.819275 -0.940728 -0.537838   \n",
       "799996 -0.912583 -1.411440 -1.936189    ...    -2.702820 -0.940623  0.462208   \n",
       "799997 -0.967450 -1.411235 -1.955686    ...    -3.196652 -0.996949 -0.537746   \n",
       "799998 -0.830643 -1.425139 -0.869619    ...    -2.905836 -0.874584 -0.537699   \n",
       "799999  0.090584 -0.443689 -2.053343    ...    -3.196187 -1.940309 -0.569912   \n",
       "\n",
       "             866       867       868       869       870       871       872  \n",
       "799995  0.753145 -5.672725  0.189435 -1.830618  0.654972  2.996547  2.870415  \n",
       "799996  0.854969  1.747772  2.080013  0.188900 -1.225242 -1.003389 -1.192668  \n",
       "799997 -0.207145  1.764630  2.386599  1.205376 -0.331908 -1.003325 -1.123119  \n",
       "799998  0.784072 -6.646045  0.206657 -1.830465 -0.348632  1.086445  2.842220  \n",
       "799999 -0.216079 -2.303453  0.189647 -1.866304 -0.332154 -1.003197 -0.168745  \n",
       "\n",
       "[5 rows x 825 columns]"
      ]
     },
     "execution_count": 4,
     "metadata": {},
     "output_type": "execute_result"
    }
   ],
   "source": [
    "df_25_0.tail()"
   ]
  },
  {
   "cell_type": "code",
   "execution_count": 5,
   "metadata": {},
   "outputs": [],
   "source": [
    "df_25_0_values=df_25_0.values"
   ]
  },
  {
   "cell_type": "code",
   "execution_count": 6,
   "metadata": {},
   "outputs": [
    {
     "data": {
      "text/plain": [
       "array([[-6.77573284e-01,  5.96950089e-02,  3.37015447e-01, ...,\n",
       "        -2.30895435e+00, -9.93101941e-01, -1.27339352e+00],\n",
       "       [ 3.48522425e-01,  1.05969483e+00,  3.33630484e-01, ...,\n",
       "         6.67599729e-01,  1.89708412e+00,  2.55819992e+00],\n",
       "       [-2.54538468e+00, -1.94030536e+00, -1.73307439e+00, ...,\n",
       "        -3.32523428e-01, -3.15568425e-03, -1.70079274e-01],\n",
       "       ...,\n",
       "       [-6.38240963e-01,  5.67088236e-02,  3.30008149e-01, ...,\n",
       "         2.74686655e+00,  2.72755600e+00,  3.72760654e+00],\n",
       "       [-6.51231058e-01,  6.44686943e-02,  3.39959303e-01, ...,\n",
       "        -5.33326245e+00, -5.00262176e+00, -4.15703184e+00],\n",
       "       [-2.91631540e+00, -1.02493467e+00, -1.53341431e+00, ...,\n",
       "         1.66661436e+00,  2.99744219e+00,  2.87147342e+00]])"
      ]
     },
     "execution_count": 6,
     "metadata": {},
     "output_type": "execute_result"
    }
   ],
   "source": [
    "df_25_0_values[:10]"
   ]
  },
  {
   "cell_type": "code",
   "execution_count": 8,
   "metadata": {},
   "outputs": [
    {
     "data": {
      "text/plain": [
       "((800000, 825), numpy.ndarray)"
      ]
     },
     "execution_count": 8,
     "metadata": {},
     "output_type": "execute_result"
    }
   ],
   "source": [
    "df_25_0_values.shape, type(df_25_0_values)"
   ]
  },
  {
   "cell_type": "code",
   "execution_count": 5,
   "metadata": {},
   "outputs": [],
   "source": [
    "path = ('../data/ML_Data/kaggle/VSB_Power_Line_Fault_Detection/bp_signals/')"
   ]
  },
  {
   "cell_type": "code",
   "execution_count": 6,
   "metadata": {},
   "outputs": [],
   "source": [
    "onlyfiles = [f for f in listdir(path) if isfile(join(path, f))]"
   ]
  },
  {
   "cell_type": "code",
   "execution_count": 7,
   "metadata": {},
   "outputs": [
    {
     "data": {
      "text/plain": [
       "['test_vlf_hf_sig_1.parquet',\n",
       " 'test_lf_sig_9.parquet',\n",
       " 'test_vlf_hf_sig_6.parquet',\n",
       " 'test_vlf_hf_sig_7.parquet',\n",
       " 'test_hf_sig_8.parquet']"
      ]
     },
     "execution_count": 7,
     "metadata": {},
     "output_type": "execute_result"
    }
   ],
   "source": [
    "onlyfiles[:5]"
   ]
  },
  {
   "cell_type": "code",
   "execution_count": 8,
   "metadata": {},
   "outputs": [],
   "source": [
    "#check neg files processed\n",
    "for n in [125, 25, 375]:\n",
    "    for i in range(10):\n",
    "        if (f'shift_neg_sig_df_{n}_{i}.parquet') not in onlyfiles:\n",
    "            print(f'shift_neg_sig_df_{n}_{i}.parquet')"
   ]
  },
  {
   "cell_type": "code",
   "execution_count": 8,
   "metadata": {},
   "outputs": [],
   "source": [
    "#check all pos files processed\n",
    "for n in [125, 25, 375, 5, 625, 75, 875]:\n",
    "    for i in range(10):\n",
    "        if (f'shift_pos_sig_df_{n}_{i}.parquet') not in onlyfiles:\n",
    "            print(f'shift_pos_sig_df_{n}_{i}.parquet')"
   ]
  },
  {
   "cell_type": "code",
   "execution_count": 28,
   "metadata": {},
   "outputs": [
    {
     "data": {
      "text/plain": [
       "(array([[1, 2],\n",
       "        [3, 4]]), array([[5, 6],\n",
       "        [7, 8]]))"
      ]
     },
     "execution_count": 28,
     "metadata": {},
     "output_type": "execute_result"
    }
   ],
   "source": [
    "a = np.array([[1, 2], [3, 4]])\n",
    "b = np.array([[5, 6], [7,8]])\n",
    "a, b"
   ]
  },
  {
   "cell_type": "code",
   "execution_count": 29,
   "metadata": {},
   "outputs": [
    {
     "data": {
      "text/plain": [
       "array([[1, 2, 5, 6],\n",
       "       [3, 4, 7, 8]])"
      ]
     },
     "execution_count": 29,
     "metadata": {},
     "output_type": "execute_result"
    }
   ],
   "source": [
    "c=np.concatenate((a, b), axis=1)\n",
    "c"
   ]
  },
  {
   "cell_type": "code",
   "execution_count": 30,
   "metadata": {},
   "outputs": [
    {
     "data": {
      "text/html": [
       "<div>\n",
       "<style scoped>\n",
       "    .dataframe tbody tr th:only-of-type {\n",
       "        vertical-align: middle;\n",
       "    }\n",
       "\n",
       "    .dataframe tbody tr th {\n",
       "        vertical-align: top;\n",
       "    }\n",
       "\n",
       "    .dataframe thead th {\n",
       "        text-align: right;\n",
       "    }\n",
       "</style>\n",
       "<table border=\"1\" class=\"dataframe\">\n",
       "  <thead>\n",
       "    <tr style=\"text-align: right;\">\n",
       "      <th></th>\n",
       "      <th>0</th>\n",
       "      <th>1</th>\n",
       "      <th>2</th>\n",
       "      <th>3</th>\n",
       "    </tr>\n",
       "  </thead>\n",
       "  <tbody>\n",
       "    <tr>\n",
       "      <th>0</th>\n",
       "      <td>1</td>\n",
       "      <td>2</td>\n",
       "      <td>5</td>\n",
       "      <td>6</td>\n",
       "    </tr>\n",
       "    <tr>\n",
       "      <th>1</th>\n",
       "      <td>3</td>\n",
       "      <td>4</td>\n",
       "      <td>7</td>\n",
       "      <td>8</td>\n",
       "    </tr>\n",
       "  </tbody>\n",
       "</table>\n",
       "</div>"
      ],
      "text/plain": [
       "   0  1  2  3\n",
       "0  1  2  5  6\n",
       "1  3  4  7  8"
      ]
     },
     "execution_count": 30,
     "metadata": {},
     "output_type": "execute_result"
    }
   ],
   "source": [
    "df = pd.DataFrame(c)\n",
    "df.head()"
   ]
  },
  {
   "cell_type": "code",
   "execution_count": 9,
   "metadata": {},
   "outputs": [
    {
     "name": "stdout",
     "output_type": "stream",
     "text": [
      "ts: 125_0 memory use: 5.081230163574219, np_vals shape: (800000, 825), elapsed: 57.165807247161865\n",
      "ts: 125_1 memory use: 14.92453384399414, np_vals shape: (800000, 1650), elapsed: 66.51425051689148\n",
      "ts: 125_2 memory use: 19.843059539794922, np_vals shape: (800000, 2475), elapsed: 70.8367350101471\n",
      "ts: 125_3 memory use: 24.75998306274414, np_vals shape: (800000, 3300), elapsed: 70.53161859512329\n",
      "ts: 125_4 memory use: 29.680404663085938, np_vals shape: (800000, 4125), elapsed: 71.41003441810608\n",
      "ts: 125_5 memory use: 34.59574508666992, np_vals shape: (800000, 4950), elapsed: 70.23253011703491\n",
      "ts: 125_6 memory use: 39.51633071899414, np_vals shape: (800000, 5775), elapsed: 72.87873435020447\n",
      "ts: 125_7 memory use: 44.43178939819336, np_vals shape: (800000, 6600), elapsed: 77.06377863883972\n",
      "ts: 125_8 memory use: 49.314876556396484, np_vals shape: (800000, 7422), elapsed: 79.86786675453186\n",
      "ts: 125_9 memory use: 54.21613693237305, np_vals shape: (800000, 8244), elapsed: 81.33515334129333\n",
      "df memory use: 54.21627426147461\n",
      "ts: 25_0 memory use: 5.0948944091796875, np_vals shape: (800000, 825), elapsed: 73.99887299537659\n",
      "ts: 25_1 memory use: 14.932746887207031, np_vals shape: (800000, 1650), elapsed: 65.16113209724426\n",
      "ts: 25_2 memory use: 19.850784301757812, np_vals shape: (800000, 2475), elapsed: 70.09367489814758\n",
      "ts: 25_3 memory use: 24.768787384033203, np_vals shape: (800000, 3300), elapsed: 70.16175055503845\n",
      "ts: 25_4 memory use: 29.685054779052734, np_vals shape: (800000, 4125), elapsed: 69.39634585380554\n",
      "ts: 25_5 memory use: 34.60316467285156, np_vals shape: (800000, 4950), elapsed: 75.36950755119324\n",
      "ts: 25_6 memory use: 39.519718170166016, np_vals shape: (800000, 5775), elapsed: 71.89969420433044\n",
      "ts: 25_7 memory use: 44.43739700317383, np_vals shape: (800000, 6600), elapsed: 73.90012550354004\n",
      "ts: 25_8 memory use: 49.31835174560547, np_vals shape: (800000, 7422), elapsed: 80.50313138961792\n",
      "ts: 25_9 memory use: 54.22032165527344, np_vals shape: (800000, 8244), elapsed: 82.0987765789032\n",
      "df memory use: 54.22032928466797\n",
      "ts: 375_0 memory use: 5.095684051513672, np_vals shape: (800000, 825), elapsed: 115.12276816368103\n",
      "ts: 375_1 memory use: 14.934947967529297, np_vals shape: (800000, 1650), elapsed: 71.46207308769226\n",
      "ts: 375_2 memory use: 19.852481842041016, np_vals shape: (800000, 2475), elapsed: 74.06375336647034\n",
      "ts: 375_3 memory use: 24.77011489868164, np_vals shape: (800000, 3300), elapsed: 76.57037830352783\n",
      "ts: 375_4 memory use: 29.685909271240234, np_vals shape: (800000, 4125), elapsed: 77.43663120269775\n",
      "ts: 375_5 memory use: 34.603851318359375, np_vals shape: (800000, 4950), elapsed: 79.29760599136353\n",
      "ts: 375_6 memory use: 39.5202751159668, np_vals shape: (800000, 5775), elapsed: 80.18332982063293\n",
      "ts: 375_7 memory use: 44.437259674072266, np_vals shape: (800000, 6600), elapsed: 75.7106409072876\n",
      "ts: 375_8 memory use: 49.32115173339844, np_vals shape: (800000, 7422), elapsed: 83.97894787788391\n",
      "ts: 375_9 memory use: 54.21952819824219, np_vals shape: (800000, 8244), elapsed: 80.50678277015686\n",
      "df memory use: 54.21952819824219\n"
     ]
    }
   ],
   "source": [
    "#neg 5, 625, 75, 875 not generated, todo if have time\n",
    "for n in [125, 25, 375]:\n",
    "    df_l = []\n",
    "    for i in range(10):\n",
    "        start=time.time()\n",
    "        df = pq.read_table(path+f'shift_neg_sig_df_{n}_{i}.parquet').to_pandas()\n",
    "        vals = df.values\n",
    "        df=None\n",
    "        if i > 0:\n",
    "            np_vals = np.concatenate((np_vals, vals), axis=1)\n",
    "        else:\n",
    "            np_vals=vals\n",
    "        memoryUse = py.memory_info()[0] / 2. ** 30\n",
    "        if memoryUse > 80.0:\n",
    "            print('Too close to killing other process, exiting')\n",
    "            break\n",
    "        end = time.time()\n",
    "        print(f'ts: {n}_{i} memory use: {memoryUse}, np_vals shape: {np_vals.shape}, elapsed: {end-start}')\n",
    "    df = pd.DataFrame(np_vals)\n",
    "    df.columns = df.columns.astype(str)\n",
    "    memoryUse = py.memory_info()[0] / 2. ** 30\n",
    "    print(f'df memory use: {memoryUse}')\n",
    "    df.to_parquet(path+f'shift_neg_sig_df_{n}_good.parquet')"
   ]
  },
  {
   "cell_type": "code",
   "execution_count": 9,
   "metadata": {},
   "outputs": [
    {
     "name": "stdout",
     "output_type": "stream",
     "text": [
      "ts: 125_0 memory use: 5.080818176269531, np_vals shape: (800000, 825), elapsed: 54.06538105010986\n",
      "ts: 125_1 memory use: 14.923049926757812, np_vals shape: (800000, 1650), elapsed: 65.06323289871216\n",
      "ts: 125_2 memory use: 19.842456817626953, np_vals shape: (800000, 2475), elapsed: 65.59692335128784\n",
      "ts: 125_3 memory use: 24.75878143310547, np_vals shape: (800000, 3300), elapsed: 66.77323293685913\n",
      "ts: 125_4 memory use: 29.678668975830078, np_vals shape: (800000, 4125), elapsed: 66.43538570404053\n",
      "ts: 125_5 memory use: 34.595664978027344, np_vals shape: (800000, 4950), elapsed: 66.92087006568909\n",
      "ts: 125_6 memory use: 39.51517105102539, np_vals shape: (800000, 5775), elapsed: 68.05065369606018\n",
      "ts: 125_7 memory use: 44.434200286865234, np_vals shape: (800000, 6600), elapsed: 67.77844667434692\n",
      "ts: 125_8 memory use: 49.315452575683594, np_vals shape: (800000, 7422), elapsed: 70.61985516548157\n",
      "ts: 125_9 memory use: 54.2164306640625, np_vals shape: (800000, 8244), elapsed: 131.81215524673462\n",
      "df memory use: 54.2164306640625\n",
      "ts: 25_0 memory use: 5.112842559814453, np_vals shape: (800000, 825), elapsed: 81.9499773979187\n",
      "ts: 25_1 memory use: 14.935127258300781, np_vals shape: (800000, 1650), elapsed: 64.84881043434143\n",
      "ts: 25_2 memory use: 19.851577758789062, np_vals shape: (800000, 2475), elapsed: 64.12354111671448\n",
      "ts: 25_3 memory use: 24.767650604248047, np_vals shape: (800000, 3300), elapsed: 66.02039504051208\n",
      "ts: 25_4 memory use: 29.686161041259766, np_vals shape: (800000, 4125), elapsed: 67.04295516014099\n",
      "ts: 25_5 memory use: 34.60392761230469, np_vals shape: (800000, 4950), elapsed: 68.18974804878235\n",
      "ts: 25_6 memory use: 39.51946258544922, np_vals shape: (800000, 5775), elapsed: 67.1500608921051\n",
      "ts: 25_7 memory use: 44.436527252197266, np_vals shape: (800000, 6600), elapsed: 67.74743437767029\n",
      "ts: 25_8 memory use: 49.31797790527344, np_vals shape: (800000, 7422), elapsed: 70.58533239364624\n",
      "ts: 25_9 memory use: 54.21754455566406, np_vals shape: (800000, 8244), elapsed: 69.19413161277771\n",
      "df memory use: 54.21754837036133\n",
      "ts: 375_0 memory use: 5.095485687255859, np_vals shape: (800000, 825), elapsed: 98.42294526100159\n",
      "ts: 375_1 memory use: 14.934009552001953, np_vals shape: (800000, 1650), elapsed: 62.71487259864807\n",
      "ts: 375_2 memory use: 19.84980010986328, np_vals shape: (800000, 2475), elapsed: 64.39959263801575\n",
      "ts: 375_3 memory use: 24.768028259277344, np_vals shape: (800000, 3300), elapsed: 63.88221764564514\n",
      "ts: 375_4 memory use: 29.686111450195312, np_vals shape: (800000, 4125), elapsed: 65.98575234413147\n",
      "ts: 375_5 memory use: 34.601295471191406, np_vals shape: (800000, 4950), elapsed: 66.12366986274719\n",
      "ts: 375_6 memory use: 39.519039154052734, np_vals shape: (800000, 5775), elapsed: 67.50335788726807\n",
      "ts: 375_7 memory use: 44.43747329711914, np_vals shape: (800000, 6600), elapsed: 67.36269903182983\n",
      "ts: 375_8 memory use: 49.31867218017578, np_vals shape: (800000, 7422), elapsed: 71.47295141220093\n",
      "ts: 375_9 memory use: 54.21797180175781, np_vals shape: (800000, 8244), elapsed: 69.3265266418457\n",
      "df memory use: 54.21797180175781\n",
      "ts: 5_0 memory use: 5.096923828125, np_vals shape: (800000, 825), elapsed: 122.56725311279297\n",
      "ts: 5_1 memory use: 14.936580657958984, np_vals shape: (800000, 1650), elapsed: 65.30176281929016\n",
      "ts: 5_2 memory use: 19.853164672851562, np_vals shape: (800000, 2475), elapsed: 64.97261929512024\n",
      "ts: 5_3 memory use: 24.770366668701172, np_vals shape: (800000, 3300), elapsed: 68.83672428131104\n",
      "ts: 5_4 memory use: 29.68677520751953, np_vals shape: (800000, 4125), elapsed: 67.14377284049988\n",
      "ts: 5_5 memory use: 34.60446548461914, np_vals shape: (800000, 4950), elapsed: 69.47523522377014\n",
      "ts: 5_6 memory use: 39.521400451660156, np_vals shape: (800000, 5775), elapsed: 67.94654107093811\n",
      "ts: 5_7 memory use: 44.43821334838867, np_vals shape: (800000, 6600), elapsed: 70.86004638671875\n",
      "ts: 5_8 memory use: 49.319095611572266, np_vals shape: (800000, 7422), elapsed: 70.33490896224976\n",
      "ts: 5_9 memory use: 54.21925735473633, np_vals shape: (800000, 8244), elapsed: 69.48849058151245\n",
      "df memory use: 54.21925735473633\n",
      "ts: 625_0 memory use: 5.114757537841797, np_vals shape: (800000, 825), elapsed: 88.69829440116882\n",
      "ts: 625_1 memory use: 14.934818267822266, np_vals shape: (800000, 1650), elapsed: 64.11077117919922\n",
      "ts: 625_2 memory use: 19.85289764404297, np_vals shape: (800000, 2475), elapsed: 65.34417843818665\n",
      "ts: 625_3 memory use: 24.77010726928711, np_vals shape: (800000, 3300), elapsed: 68.0013952255249\n",
      "ts: 625_4 memory use: 29.687557220458984, np_vals shape: (800000, 4125), elapsed: 67.43109011650085\n",
      "ts: 625_5 memory use: 34.603538513183594, np_vals shape: (800000, 4950), elapsed: 69.53743553161621\n",
      "ts: 625_6 memory use: 39.52325439453125, np_vals shape: (800000, 5775), elapsed: 68.69982242584229\n",
      "ts: 625_7 memory use: 44.43939971923828, np_vals shape: (800000, 6600), elapsed: 72.1076180934906\n",
      "ts: 625_8 memory use: 49.32072067260742, np_vals shape: (800000, 7422), elapsed: 70.19961476325989\n",
      "ts: 625_9 memory use: 54.22141647338867, np_vals shape: (800000, 8244), elapsed: 69.56610989570618\n",
      "df memory use: 54.22141647338867\n",
      "ts: 75_0 memory use: 5.096981048583984, np_vals shape: (800000, 825), elapsed: 85.25735402107239\n",
      "ts: 75_1 memory use: 14.935604095458984, np_vals shape: (800000, 1650), elapsed: 63.568249464035034\n",
      "ts: 75_2 memory use: 19.852527618408203, np_vals shape: (800000, 2475), elapsed: 64.66169857978821\n",
      "ts: 75_3 memory use: 24.77037811279297, np_vals shape: (800000, 3300), elapsed: 66.15616488456726\n",
      "ts: 75_4 memory use: 29.686641693115234, np_vals shape: (800000, 4125), elapsed: 67.42178606987\n",
      "ts: 75_5 memory use: 34.60610580444336, np_vals shape: (800000, 4950), elapsed: 68.95010876655579\n",
      "ts: 75_6 memory use: 39.52197265625, np_vals shape: (800000, 5775), elapsed: 68.35744595527649\n",
      "ts: 75_7 memory use: 44.43875503540039, np_vals shape: (800000, 6600), elapsed: 70.15544438362122\n",
      "ts: 75_8 memory use: 49.32178497314453, np_vals shape: (800000, 7422), elapsed: 73.76348114013672\n",
      "ts: 75_9 memory use: 54.220523834228516, np_vals shape: (800000, 8244), elapsed: 70.64915442466736\n",
      "df memory use: 54.220523834228516\n",
      "ts: 875_0 memory use: 5.096660614013672, np_vals shape: (800000, 825), elapsed: 79.32840037345886\n",
      "ts: 875_1 memory use: 14.934635162353516, np_vals shape: (800000, 1650), elapsed: 63.420896768569946\n",
      "ts: 875_2 memory use: 19.852794647216797, np_vals shape: (800000, 2475), elapsed: 64.51434803009033\n",
      "ts: 875_3 memory use: 24.770854949951172, np_vals shape: (800000, 3300), elapsed: 65.41758847236633\n",
      "ts: 875_4 memory use: 29.68878173828125, np_vals shape: (800000, 4125), elapsed: 68.72560667991638\n",
      "ts: 875_5 memory use: 34.604087829589844, np_vals shape: (800000, 4950), elapsed: 68.57505536079407\n",
      "ts: 875_6 memory use: 39.52370834350586, np_vals shape: (800000, 5775), elapsed: 69.30497908592224\n",
      "ts: 875_7 memory use: 44.438907623291016, np_vals shape: (800000, 6600), elapsed: 72.92197561264038\n",
      "ts: 875_8 memory use: 49.32052993774414, np_vals shape: (800000, 7422), elapsed: 75.64658999443054\n",
      "ts: 875_9 memory use: 54.22056198120117, np_vals shape: (800000, 8244), elapsed: 71.27082443237305\n",
      "df memory use: 54.22056198120117\n"
     ]
    }
   ],
   "source": [
    "#all generated for positive shift\n",
    "for n in [125, 25, 375, 5, 625, 75, 875]:\n",
    "    df_l = []\n",
    "    for i in range(10):\n",
    "        start=time.time()\n",
    "        df = pq.read_table(path+f'shift_pos_sig_df_{n}_{i}.parquet').to_pandas()\n",
    "        vals = df.values\n",
    "        df=None\n",
    "        if i > 0:\n",
    "            np_vals = np.concatenate((np_vals, vals), axis=1)\n",
    "        else:\n",
    "            np_vals=vals\n",
    "        memoryUse = py.memory_info()[0] / 2. ** 30\n",
    "        if memoryUse > 80.0:\n",
    "            print('Too close to killing other process, exiting')\n",
    "            break\n",
    "        end = time.time()\n",
    "        print(f'ts: {n}_{i} memory use: {memoryUse}, np_vals shape: {np_vals.shape}, elapsed: {end-start}')\n",
    "    df = pd.DataFrame(np_vals)\n",
    "    df.columns = df.columns.astype(str)\n",
    "    memoryUse = py.memory_info()[0] / 2. ** 30\n",
    "    print(f'df memory use: {memoryUse}')\n",
    "    df.to_parquet(path+f'shift_pos_sig_df_{n}_good.parquet')"
   ]
  },
  {
   "cell_type": "markdown",
   "metadata": {},
   "source": [
    "### QC"
   ]
  },
  {
   "cell_type": "code",
   "execution_count": null,
   "metadata": {},
   "outputs": [],
   "source": [
    "n=125\n",
    "df_125=pq.read_table(f'../data/ML_Data/kaggle/VSB_Power_Line_Fault_Detection/bp_signals/shift_pos_sig_df_{n}_good.parquet').to_pandas()"
   ]
  },
  {
   "cell_type": "code",
   "execution_count": null,
   "metadata": {},
   "outputs": [],
   "source": [
    "df_125.head()"
   ]
  },
  {
   "cell_type": "code",
   "execution_count": null,
   "metadata": {},
   "outputs": [],
   "source": []
  }
 ],
 "metadata": {
  "kernelspec": {
   "display_name": "Python 3",
   "language": "python",
   "name": "python3"
  },
  "language_info": {
   "codemirror_mode": {
    "name": "ipython",
    "version": 3
   },
   "file_extension": ".py",
   "mimetype": "text/x-python",
   "name": "python",
   "nbconvert_exporter": "python",
   "pygments_lexer": "ipython3",
   "version": "3.7.0"
  }
 },
 "nbformat": 4,
 "nbformat_minor": 2
}
